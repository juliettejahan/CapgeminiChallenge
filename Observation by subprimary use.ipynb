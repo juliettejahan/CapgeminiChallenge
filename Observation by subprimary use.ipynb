{
 "cells": [
  {
   "cell_type": "code",
   "execution_count": 48,
   "id": "f0c5095e",
   "metadata": {},
   "outputs": [
    {
     "name": "stdout",
     "output_type": "stream",
     "text": [
      ":: Start loading data\n"
     ]
    },
    {
     "name": "stderr",
     "output_type": "stream",
     "text": [
      "100%|█████████████████████████████████████████████| 3/3 [00:00<00:00, 18.14it/s]\n"
     ]
    },
    {
     "name": "stdout",
     "output_type": "stream",
     "text": [
      ":: Start loading data\n"
     ]
    },
    {
     "name": "stderr",
     "output_type": "stream",
     "text": [
      "100%|█████████████████████████████████████████████| 1/1 [00:00<00:00,  3.57it/s]\n"
     ]
    }
   ],
   "source": [
    "import pandas as pd\n",
    "import os\n",
    "from tqdm import tqdm\n",
    "import matplotlib.pyplot as plt\n",
    "from sklearn.metrics import mean_absolute_percentage_error\n",
    "import seaborn as sns\n",
    "\n",
    "FILES_FOLDER = {\n",
    "    \"data_for_data_challenge\": [\n",
    "        \"data_for_data_challenge/building_data.feather\",\n",
    "        \"data_for_data_challenge/meter_data.feather\",\n",
    "        \"data_for_data_challenge/weather_data.feather\",  # The dataset test will be released one hour before the end of the Data Challenge\n",
    "    ],\n",
    "        \"clean_data\":[\"clean_data/merged_timestamp.feather\"]\n",
    "\n",
    "}\n",
    "\n",
    "\n",
    "def load_data(folder, data_dir, dict_files=FILES_FOLDER):\n",
    "    files = dict_files[folder]\n",
    "    dataframes = []\n",
    "    print(\":: Start loading data\")\n",
    "    for name_file in tqdm(files):\n",
    "        dataframe = pd.read_feather(os.path.join(data_dir, name_file))\n",
    "        dataframes.append(dataframe)\n",
    "    return dataframes\n",
    "\n",
    "\n",
    "building, meters, weather = load_data(\"data_for_data_challenge\", \"\")\n",
    "\n",
    "merged_dataset=load_data(\"clean_data\",\"\")[0]"
   ]
  },
  {
   "cell_type": "code",
   "execution_count": 49,
   "id": "24a5aca8",
   "metadata": {},
   "outputs": [
    {
     "data": {
      "text/html": [
       "<div>\n",
       "<style scoped>\n",
       "    .dataframe tbody tr th:only-of-type {\n",
       "        vertical-align: middle;\n",
       "    }\n",
       "\n",
       "    .dataframe tbody tr th {\n",
       "        vertical-align: top;\n",
       "    }\n",
       "\n",
       "    .dataframe thead th {\n",
       "        text-align: right;\n",
       "    }\n",
       "</style>\n",
       "<table border=\"1\" class=\"dataframe\">\n",
       "  <thead>\n",
       "    <tr style=\"text-align: right;\">\n",
       "      <th></th>\n",
       "      <th>timestamp</th>\n",
       "      <th>building_id</th>\n",
       "      <th>meter</th>\n",
       "      <th>meter_reading</th>\n",
       "      <th>site_id</th>\n",
       "      <th>air_temperature</th>\n",
       "      <th>dew_temperature</th>\n",
       "      <th>sea_level_pressure</th>\n",
       "      <th>wind_direction</th>\n",
       "      <th>wind_speed</th>\n",
       "    </tr>\n",
       "  </thead>\n",
       "  <tbody>\n",
       "    <tr>\n",
       "      <th>0</th>\n",
       "      <td>2016-01-01 00:00:00</td>\n",
       "      <td>198</td>\n",
       "      <td>0</td>\n",
       "      <td>197.8700</td>\n",
       "      <td>2.0</td>\n",
       "      <td>15.6</td>\n",
       "      <td>-5.6</td>\n",
       "      <td>1015.5</td>\n",
       "      <td>270.0</td>\n",
       "      <td>3.6</td>\n",
       "    </tr>\n",
       "    <tr>\n",
       "      <th>1</th>\n",
       "      <td>2016-01-01 00:00:00</td>\n",
       "      <td>239</td>\n",
       "      <td>3</td>\n",
       "      <td>67.4063</td>\n",
       "      <td>2.0</td>\n",
       "      <td>15.6</td>\n",
       "      <td>-5.6</td>\n",
       "      <td>1015.5</td>\n",
       "      <td>270.0</td>\n",
       "      <td>3.6</td>\n",
       "    </tr>\n",
       "    <tr>\n",
       "      <th>2</th>\n",
       "      <td>2016-01-01 00:00:00</td>\n",
       "      <td>276</td>\n",
       "      <td>0</td>\n",
       "      <td>115.7400</td>\n",
       "      <td>2.0</td>\n",
       "      <td>15.6</td>\n",
       "      <td>-5.6</td>\n",
       "      <td>1015.5</td>\n",
       "      <td>270.0</td>\n",
       "      <td>3.6</td>\n",
       "    </tr>\n",
       "    <tr>\n",
       "      <th>3</th>\n",
       "      <td>2016-01-01 00:00:00</td>\n",
       "      <td>234</td>\n",
       "      <td>0</td>\n",
       "      <td>63.0700</td>\n",
       "      <td>2.0</td>\n",
       "      <td>15.6</td>\n",
       "      <td>-5.6</td>\n",
       "      <td>1015.5</td>\n",
       "      <td>270.0</td>\n",
       "      <td>3.6</td>\n",
       "    </tr>\n",
       "    <tr>\n",
       "      <th>4</th>\n",
       "      <td>2016-01-01 00:00:00</td>\n",
       "      <td>191</td>\n",
       "      <td>0</td>\n",
       "      <td>54.8500</td>\n",
       "      <td>2.0</td>\n",
       "      <td>15.6</td>\n",
       "      <td>-5.6</td>\n",
       "      <td>1015.5</td>\n",
       "      <td>270.0</td>\n",
       "      <td>3.6</td>\n",
       "    </tr>\n",
       "  </tbody>\n",
       "</table>\n",
       "</div>"
      ],
      "text/plain": [
       "             timestamp  building_id  meter  meter_reading  site_id  \\\n",
       "0  2016-01-01 00:00:00          198      0       197.8700      2.0   \n",
       "1  2016-01-01 00:00:00          239      3        67.4063      2.0   \n",
       "2  2016-01-01 00:00:00          276      0       115.7400      2.0   \n",
       "3  2016-01-01 00:00:00          234      0        63.0700      2.0   \n",
       "4  2016-01-01 00:00:00          191      0        54.8500      2.0   \n",
       "\n",
       "   air_temperature  dew_temperature  sea_level_pressure  wind_direction  \\\n",
       "0             15.6             -5.6              1015.5           270.0   \n",
       "1             15.6             -5.6              1015.5           270.0   \n",
       "2             15.6             -5.6              1015.5           270.0   \n",
       "3             15.6             -5.6              1015.5           270.0   \n",
       "4             15.6             -5.6              1015.5           270.0   \n",
       "\n",
       "   wind_speed  \n",
       "0         3.6  \n",
       "1         3.6  \n",
       "2         3.6  \n",
       "3         3.6  \n",
       "4         3.6  "
      ]
     },
     "execution_count": 49,
     "metadata": {},
     "output_type": "execute_result"
    }
   ],
   "source": [
    "merged_dataset.head()"
   ]
  },
  {
   "cell_type": "code",
   "execution_count": 50,
   "id": "ac4493bd",
   "metadata": {},
   "outputs": [],
   "source": [
    "list = [\"building_id\"]\n",
    "merged_building_meters = meters.merge(building,\n",
    "                   on = list, \n",
    "                   how = 'outer')"
   ]
  },
  {
   "cell_type": "code",
   "execution_count": 51,
   "id": "e938b827",
   "metadata": {},
   "outputs": [
    {
     "data": {
      "text/html": [
       "<div>\n",
       "<style scoped>\n",
       "    .dataframe tbody tr th:only-of-type {\n",
       "        vertical-align: middle;\n",
       "    }\n",
       "\n",
       "    .dataframe tbody tr th {\n",
       "        vertical-align: top;\n",
       "    }\n",
       "\n",
       "    .dataframe thead th {\n",
       "        text-align: right;\n",
       "    }\n",
       "</style>\n",
       "<table border=\"1\" class=\"dataframe\">\n",
       "  <thead>\n",
       "    <tr style=\"text-align: right;\">\n",
       "      <th></th>\n",
       "      <th>index_x</th>\n",
       "      <th>building_id</th>\n",
       "      <th>timestamp</th>\n",
       "      <th>meter</th>\n",
       "      <th>meter_reading</th>\n",
       "      <th>index_y</th>\n",
       "      <th>site_id</th>\n",
       "      <th>primary_use</th>\n",
       "      <th>sub_primary_use</th>\n",
       "      <th>square_feet</th>\n",
       "      <th>lat</th>\n",
       "      <th>lng</th>\n",
       "      <th>year_built</th>\n",
       "    </tr>\n",
       "  </thead>\n",
       "  <tbody>\n",
       "    <tr>\n",
       "      <th>0</th>\n",
       "      <td>0</td>\n",
       "      <td>83</td>\n",
       "      <td>2017-01-11 09:00:00</td>\n",
       "      <td>0</td>\n",
       "      <td>1.0989</td>\n",
       "      <td>0</td>\n",
       "      <td>0</td>\n",
       "      <td>Other</td>\n",
       "      <td>Other</td>\n",
       "      <td>2070.0</td>\n",
       "      <td>28.52</td>\n",
       "      <td>-81.400002</td>\n",
       "      <td>1996.0</td>\n",
       "    </tr>\n",
       "    <tr>\n",
       "      <th>1</th>\n",
       "      <td>1</td>\n",
       "      <td>83</td>\n",
       "      <td>2016-03-21 22:00:00</td>\n",
       "      <td>0</td>\n",
       "      <td>0.0000</td>\n",
       "      <td>0</td>\n",
       "      <td>0</td>\n",
       "      <td>Other</td>\n",
       "      <td>Other</td>\n",
       "      <td>2070.0</td>\n",
       "      <td>28.52</td>\n",
       "      <td>-81.400002</td>\n",
       "      <td>1996.0</td>\n",
       "    </tr>\n",
       "    <tr>\n",
       "      <th>2</th>\n",
       "      <td>2</td>\n",
       "      <td>83</td>\n",
       "      <td>2016-04-29 20:00:00</td>\n",
       "      <td>0</td>\n",
       "      <td>0.0000</td>\n",
       "      <td>0</td>\n",
       "      <td>0</td>\n",
       "      <td>Other</td>\n",
       "      <td>Other</td>\n",
       "      <td>2070.0</td>\n",
       "      <td>28.52</td>\n",
       "      <td>-81.400002</td>\n",
       "      <td>1996.0</td>\n",
       "    </tr>\n",
       "    <tr>\n",
       "      <th>3</th>\n",
       "      <td>3</td>\n",
       "      <td>83</td>\n",
       "      <td>2017-01-15 06:00:00</td>\n",
       "      <td>0</td>\n",
       "      <td>2.7405</td>\n",
       "      <td>0</td>\n",
       "      <td>0</td>\n",
       "      <td>Other</td>\n",
       "      <td>Other</td>\n",
       "      <td>2070.0</td>\n",
       "      <td>28.52</td>\n",
       "      <td>-81.400002</td>\n",
       "      <td>1996.0</td>\n",
       "    </tr>\n",
       "    <tr>\n",
       "      <th>4</th>\n",
       "      <td>4</td>\n",
       "      <td>83</td>\n",
       "      <td>2017-02-06 20:00:00</td>\n",
       "      <td>0</td>\n",
       "      <td>2.1296</td>\n",
       "      <td>0</td>\n",
       "      <td>0</td>\n",
       "      <td>Other</td>\n",
       "      <td>Other</td>\n",
       "      <td>2070.0</td>\n",
       "      <td>28.52</td>\n",
       "      <td>-81.400002</td>\n",
       "      <td>1996.0</td>\n",
       "    </tr>\n",
       "  </tbody>\n",
       "</table>\n",
       "</div>"
      ],
      "text/plain": [
       "   index_x  building_id           timestamp  meter  meter_reading  index_y  \\\n",
       "0        0           83 2017-01-11 09:00:00      0         1.0989        0   \n",
       "1        1           83 2016-03-21 22:00:00      0         0.0000        0   \n",
       "2        2           83 2016-04-29 20:00:00      0         0.0000        0   \n",
       "3        3           83 2017-01-15 06:00:00      0         2.7405        0   \n",
       "4        4           83 2017-02-06 20:00:00      0         2.1296        0   \n",
       "\n",
       "   site_id primary_use sub_primary_use  square_feet    lat        lng  \\\n",
       "0        0       Other           Other       2070.0  28.52 -81.400002   \n",
       "1        0       Other           Other       2070.0  28.52 -81.400002   \n",
       "2        0       Other           Other       2070.0  28.52 -81.400002   \n",
       "3        0       Other           Other       2070.0  28.52 -81.400002   \n",
       "4        0       Other           Other       2070.0  28.52 -81.400002   \n",
       "\n",
       "   year_built  \n",
       "0      1996.0  \n",
       "1      1996.0  \n",
       "2      1996.0  \n",
       "3      1996.0  \n",
       "4      1996.0  "
      ]
     },
     "execution_count": 51,
     "metadata": {},
     "output_type": "execute_result"
    }
   ],
   "source": [
    "merged_building_meters.head()"
   ]
  },
  {
   "cell_type": "code",
   "execution_count": 52,
   "id": "b5acb67f",
   "metadata": {},
   "outputs": [
    {
     "data": {
      "text/plain": [
       "(976896, 13)"
      ]
     },
     "execution_count": 52,
     "metadata": {},
     "output_type": "execute_result"
    }
   ],
   "source": [
    "merged_building_meters.shape"
   ]
  },
  {
   "cell_type": "code",
   "execution_count": 53,
   "id": "0dfbdfef",
   "metadata": {},
   "outputs": [],
   "source": [
    "merged_electricity=merged_building_meters[merged_building_meters['meter']==0]\n",
    "merged_electricity = merged_electricity.drop_duplicates('building_id', keep=\"first\")"
   ]
  },
  {
   "cell_type": "code",
   "execution_count": 54,
   "id": "a1455201",
   "metadata": {},
   "outputs": [
    {
     "name": "stderr",
     "output_type": "stream",
     "text": [
      "/opt/miniconda3/lib/python3.9/site-packages/matplotlib/backends/backend_agg.py:240: RuntimeWarning: Glyph 9 missing from current font.\n",
      "  font.set_text(s, 0.0, flags=flags)\n"
     ]
    },
    {
     "data": {
      "text/plain": [
       "([0,\n",
       "  1,\n",
       "  2,\n",
       "  3,\n",
       "  4,\n",
       "  5,\n",
       "  6,\n",
       "  7,\n",
       "  8,\n",
       "  9,\n",
       "  10,\n",
       "  11,\n",
       "  12,\n",
       "  13,\n",
       "  14,\n",
       "  15,\n",
       "  16,\n",
       "  17,\n",
       "  18,\n",
       "  19,\n",
       "  20,\n",
       "  21,\n",
       "  22,\n",
       "  23,\n",
       "  24,\n",
       "  25,\n",
       "  26,\n",
       "  27,\n",
       "  28,\n",
       "  29,\n",
       "  30,\n",
       "  31,\n",
       "  32,\n",
       "  33,\n",
       "  34,\n",
       "  35,\n",
       "  36,\n",
       "  37,\n",
       "  38,\n",
       "  39,\n",
       "  40,\n",
       "  41,\n",
       "  42,\n",
       "  43,\n",
       "  44,\n",
       "  45,\n",
       "  46,\n",
       "  47,\n",
       "  48,\n",
       "  49,\n",
       "  50,\n",
       "  51,\n",
       "  52,\n",
       "  53,\n",
       "  54,\n",
       "  55,\n",
       "  56,\n",
       "  57,\n",
       "  58,\n",
       "  59,\n",
       "  60,\n",
       "  61,\n",
       "  62,\n",
       "  63,\n",
       "  64,\n",
       "  65,\n",
       "  66,\n",
       "  67,\n",
       "  68,\n",
       "  69,\n",
       "  70,\n",
       "  71,\n",
       "  72,\n",
       "  73,\n",
       "  74,\n",
       "  75],\n",
       " [Text(0, 0, 'Other'),\n",
       "  Text(1, 0, 'Residence Hall\\t'),\n",
       "  Text(2, 0, 'Office'),\n",
       "  Text(3, 0, 'Parking Garage'),\n",
       "  Text(4, 0, 'Retail'),\n",
       "  Text(5, 0, 'Residence Hall'),\n",
       "  Text(6, 0, 'Classroom'),\n",
       "  Text(7, 0, 'Research'),\n",
       "  Text(8, 0, 'Stadium'),\n",
       "  Text(9, 0, 'College Laboratory'),\n",
       "  Text(10, 0, 'Gymnasium'),\n",
       "  Text(11, 0, 'College Classroom'),\n",
       "  Text(12, 0, 'Dormitory'),\n",
       "  Text(13, 0, 'Planetarium'),\n",
       "  Text(14, 0, 'Student Union'),\n",
       "  Text(15, 0, 'Library'),\n",
       "  Text(16, 0, 'Museum'),\n",
       "  Text(17, 0, 'Health Services'),\n",
       "  Text(18, 0, 'Sports Stadium'),\n",
       "  Text(19, 0, 'Chapel'),\n",
       "  Text(20, 0, 'Fitness Center'),\n",
       "  Text(21, 0, 'Central Plant'),\n",
       "  Text(22, 0, 'Warehouse'),\n",
       "  Text(23, 0, 'Theater'),\n",
       "  Text(24, 0, 'Fire Station'),\n",
       "  Text(25, 0, 'K-12 School'),\n",
       "  Text(26, 0, 'Non-Refrigerated Warehouse'),\n",
       "  Text(27, 0, 'Hospital (General Medical & Surgical)'),\n",
       "  Text(28, 0, 'Other - Recreation'),\n",
       "  Text(29, 0, 'Police Station'),\n",
       "  Text(30, 0, 'Swimming Pool'),\n",
       "  Text(31, 0, 'Other - Lodging/Residential'),\n",
       "  Text(32, 0, 'Social/Meeting Hall'),\n",
       "  Text(33, 0, 'Parking'),\n",
       "  Text(34, 0, 'Other - Education'),\n",
       "  Text(35, 0, 'Senior Care Community'),\n",
       "  Text(36, 0, 'Other - Public Services'),\n",
       "  Text(37, 0, 'Urgent Care Center/Clinic/Other Outpatient Office'),\n",
       "  Text(38, 0, 'Worship Facility'),\n",
       "  Text(39, 0, 'Education'),\n",
       "  Text(40, 0, 'Entertainment/public assembly'),\n",
       "  Text(41, 0, 'Public services'),\n",
       "  Text(42, 0, 'Lodging/residential'),\n",
       "  Text(43, 0, 'Technology/science'),\n",
       "  Text(44, 0, 'Primary/Secondary Classroom'),\n",
       "  Text(45, 0, 'Creamatorium'),\n",
       "  Text(46, 0, 'Greenhouse'),\n",
       "  Text(47, 0, 'Community Center'),\n",
       "  Text(48, 0, 'Office, Fire Stations'),\n",
       "  Text(49, 0, 'Fire Station, Fire Stations'),\n",
       "  Text(50, 0, 'Park'),\n",
       "  Text(51, 0, 'Community Center, Community Centers'),\n",
       "  Text(52, 0, 'Sports Facility'),\n",
       "  Text(53, 0, 'Park, Community Centers'),\n",
       "  Text(54, 0, 'Athletic Field'),\n",
       "  Text(55, 0, 'Conference Center'),\n",
       "  Text(56, 0, 'garage'),\n",
       "  Text(57, 0, 'Academic'),\n",
       "  Text(58, 0, 'Residence Hall/Dormitory'),\n",
       "  Text(59, 0, 'Student Center'),\n",
       "  Text(60, 0, 'Data Centre'),\n",
       "  Text(61, 0, 'Parking: Open Air Ramp'),\n",
       "  Text(62, 0, 'Hospital'),\n",
       "  Text(63, 0, 'Animal Shelter'),\n",
       "  Text(64, 0, 'Maintenance Repair Shop'),\n",
       "  Text(65, 0, 'Auditorium'),\n",
       "  Text(66, 0, 'Parking: Enclosed Garage'),\n",
       "  Text(67, 0, 'Manufacturing Facility'),\n",
       "  Text(68, 0, 'Warehouse (Unconditioned)'),\n",
       "  Text(69, 0, 'Athletic'),\n",
       "  Text(70, 0, 'Dining'),\n",
       "  Text(71, 0, 'Patient Care'),\n",
       "  Text(72, 0, 'Housing'),\n",
       "  Text(73, 0, 'Support'),\n",
       "  Text(74, 0, 'Public Service'),\n",
       "  Text(75, 0, 'Religious building')])"
      ]
     },
     "execution_count": 54,
     "metadata": {},
     "output_type": "execute_result"
    },
    {
     "name": "stderr",
     "output_type": "stream",
     "text": [
      "/opt/miniconda3/lib/python3.9/site-packages/matplotlib/backends/backend_agg.py:203: RuntimeWarning: Glyph 9 missing from current font.\n",
      "  font.set_text(s, 0, flags=flags)\n"
     ]
    },
    {
     "data": {
      "image/png": "[encoded data removed]",
      "text/plain": [
       "<Figure size 360x360 with 1 Axes>"
      ]
     },
     "metadata": {
      "needs_background": "light"
     },
     "output_type": "display_data"
    }
   ],
   "source": [
    "sns.displot(merged_electricity, x=\"sub_primary_use\")\n",
    "plt.xticks(rotation=45)"
   ]
  },
  {
   "cell_type": "code",
   "execution_count": 55,
   "id": "66b7c70f",
   "metadata": {},
   "outputs": [],
   "source": [
    "merged_chilledwater=merged_building_meters[merged_building_meters['meter']==1]\n",
    "merged_chilledwater = merged_chilledwater.drop_duplicates('building_id', keep=\"first\")"
   ]
  },
  {
   "cell_type": "code",
   "execution_count": 56,
   "id": "d87ad024",
   "metadata": {},
   "outputs": [
    {
     "data": {
      "text/plain": [
       "([0,\n",
       "  1,\n",
       "  2,\n",
       "  3,\n",
       "  4,\n",
       "  5,\n",
       "  6,\n",
       "  7,\n",
       "  8,\n",
       "  9,\n",
       "  10,\n",
       "  11,\n",
       "  12,\n",
       "  13,\n",
       "  14,\n",
       "  15,\n",
       "  16,\n",
       "  17,\n",
       "  18,\n",
       "  19,\n",
       "  20,\n",
       "  21,\n",
       "  22,\n",
       "  23,\n",
       "  24,\n",
       "  25,\n",
       "  26,\n",
       "  27,\n",
       "  28,\n",
       "  29,\n",
       "  30,\n",
       "  31],\n",
       " [Text(0, 0, 'Classroom'),\n",
       "  Text(1, 0, 'Office'),\n",
       "  Text(2, 0, 'Dormitory'),\n",
       "  Text(3, 0, 'College Classroom'),\n",
       "  Text(4, 0, 'Planetarium'),\n",
       "  Text(5, 0, 'Library'),\n",
       "  Text(6, 0, 'Health Services'),\n",
       "  Text(7, 0, 'Sports Stadium'),\n",
       "  Text(8, 0, 'College Laboratory'),\n",
       "  Text(9, 0, 'Central Plant'),\n",
       "  Text(10, 0, 'Theater'),\n",
       "  Text(11, 0, 'Student Union'),\n",
       "  Text(12, 0, 'Fitness Center'),\n",
       "  Text(13, 0, 'Swimming Pool'),\n",
       "  Text(14, 0, 'Athletic Field'),\n",
       "  Text(15, 0, 'Conference Center'),\n",
       "  Text(16, 0, 'Museum'),\n",
       "  Text(17, 0, 'Academic'),\n",
       "  Text(18, 0, 'Student Center'),\n",
       "  Text(19, 0, 'Hospital'),\n",
       "  Text(20, 0, 'Auditorium'),\n",
       "  Text(21, 0, 'Parking: Enclosed Garage'),\n",
       "  Text(22, 0, 'Athletic'),\n",
       "  Text(23, 0, 'Dining'),\n",
       "  Text(24, 0, 'Research'),\n",
       "  Text(25, 0, 'Patient Care'),\n",
       "  Text(26, 0, 'Housing'),\n",
       "  Text(27, 0, 'Public Service'),\n",
       "  Text(28, 0, 'Support'),\n",
       "  Text(29, 0, 'Greenhouse'),\n",
       "  Text(30, 0, 'Religious building'),\n",
       "  Text(31, 0, 'Gymnasium')])"
      ]
     },
     "execution_count": 56,
     "metadata": {},
     "output_type": "execute_result"
    },
    {
     "data": {
      "image/png": "[encoded data removed]",
      "text/plain": [
       "<Figure size 360x360 with 1 Axes>"
      ]
     },
     "metadata": {
      "needs_background": "light"
     },
     "output_type": "display_data"
    }
   ],
   "source": [
    "sns.displot(merged_chilledwater, x=\"sub_primary_use\")\n",
    "plt.xticks(rotation=45)"
   ]
  },
  {
   "cell_type": "code",
   "execution_count": 57,
   "id": "5a2c5641",
   "metadata": {},
   "outputs": [],
   "source": [
    "merged_steam=merged_building_meters[merged_building_meters['meter']==2]\n",
    "merged_steam = merged_steam.drop_duplicates('building_id', keep=\"first\")"
   ]
  },
  {
   "cell_type": "code",
   "execution_count": 58,
   "id": "13f3004f",
   "metadata": {},
   "outputs": [
    {
     "data": {
      "text/plain": [
       "([0, 1, 2, 3, 4, 5, 6, 7, 8, 9, 10, 11, 12, 13, 14, 15, 16, 17, 18, 19],\n",
       " [Text(0, 0, 'College Classroom'),\n",
       "  Text(1, 0, 'Dormitory'),\n",
       "  Text(2, 0, 'Office'),\n",
       "  Text(3, 0, 'Swimming Pool'),\n",
       "  Text(4, 0, 'College Laboratory'),\n",
       "  Text(5, 0, 'Athletic Field'),\n",
       "  Text(6, 0, 'Sports Stadium'),\n",
       "  Text(7, 0, 'Student Union'),\n",
       "  Text(8, 0, 'Theater'),\n",
       "  Text(9, 0, 'Conference Center'),\n",
       "  Text(10, 0, 'Library'),\n",
       "  Text(11, 0, 'Museum'),\n",
       "  Text(12, 0, 'Greenhouse'),\n",
       "  Text(13, 0, 'Maintenance Repair Shop'),\n",
       "  Text(14, 0, 'Parking: Enclosed Garage'),\n",
       "  Text(15, 0, 'Dining'),\n",
       "  Text(16, 0, 'Research'),\n",
       "  Text(17, 0, 'Patient Care'),\n",
       "  Text(18, 0, 'Housing'),\n",
       "  Text(19, 0, 'Support')])"
      ]
     },
     "execution_count": 58,
     "metadata": {},
     "output_type": "execute_result"
    },
    {
     "data": {
      "image/png": "[encoded data removed]",
      "text/plain": [
       "<Figure size 360x360 with 1 Axes>"
      ]
     },
     "metadata": {
      "needs_background": "light"
     },
     "output_type": "display_data"
    }
   ],
   "source": [
    "sns.displot(merged_steam, x=\"sub_primary_use\")\n",
    "plt.xticks(rotation=45)"
   ]
  },
  {
   "cell_type": "code",
   "execution_count": 59,
   "id": "beefefe8",
   "metadata": {},
   "outputs": [],
   "source": [
    "merged_hotwater=merged_building_meters[merged_building_meters['meter']==3]\n",
    "merged_hotwater = merged_hotwater.drop_duplicates('building_id', keep=\"first\")"
   ]
  },
  {
   "cell_type": "code",
   "execution_count": 60,
   "id": "492f1474",
   "metadata": {},
   "outputs": [
    {
     "data": {
      "text/plain": [
       "([0, 1, 2, 3, 4, 5, 6, 7, 8, 9, 10, 11, 12, 13, 14, 15, 16, 17],\n",
       " [Text(0, 0, 'College Laboratory'),\n",
       "  Text(1, 0, 'Dormitory'),\n",
       "  Text(2, 0, 'College Classroom'),\n",
       "  Text(3, 0, 'Office'),\n",
       "  Text(4, 0, 'Planetarium'),\n",
       "  Text(5, 0, 'Sports Stadium'),\n",
       "  Text(6, 0, 'Fitness Center'),\n",
       "  Text(7, 0, 'Academic'),\n",
       "  Text(8, 0, 'Student Center'),\n",
       "  Text(9, 0, 'Athletic'),\n",
       "  Text(10, 0, 'Research'),\n",
       "  Text(11, 0, 'Library'),\n",
       "  Text(12, 0, 'Housing'),\n",
       "  Text(13, 0, 'Dining'),\n",
       "  Text(14, 0, 'Public Service'),\n",
       "  Text(15, 0, 'Patient Care'),\n",
       "  Text(16, 0, 'Support'),\n",
       "  Text(17, 0, 'Gymnasium')])"
      ]
     },
     "execution_count": 60,
     "metadata": {},
     "output_type": "execute_result"
    },
    {
     "data": {
      "image/png": "[encoded data removed]",
      "text/plain": [
       "<Figure size 360x360 with 1 Axes>"
      ]
     },
     "metadata": {
      "needs_background": "light"
     },
     "output_type": "display_data"
    }
   ],
   "source": [
    "sns.displot(merged_hotwater, x=\"sub_primary_use\")\n",
    "plt.xticks(rotation=45)"
   ]
  }
 ],
 "metadata": {
  "kernelspec": {
   "display_name": "Python 3 (ipykernel)",
   "language": "python",
   "name": "python3"
  },
  "language_info": {
   "codemirror_mode": {
    "name": "ipython",
    "version": 3
   },
   "file_extension": ".py",
   "mimetype": "text/x-python",
   "name": "python",
   "nbconvert_exporter": "python",
   "pygments_lexer": "ipython3",
   "version": "3.9.7"
  }
 },
 "nbformat": 4,
 "nbformat_minor": 5
}
