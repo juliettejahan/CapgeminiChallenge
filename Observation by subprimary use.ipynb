{
 "cells": [
  {
   "cell_type": "code",
   "execution_count": 1,
   "id": "4596b1cf",
   "metadata": {},
   "outputs": [
    {
     "name": "stdout",
     "output_type": "stream",
     "text": [
      ":: Start loading data\n"
     ]
    },
    {
     "name": "stderr",
     "output_type": "stream",
     "text": [
      "100%|█████████████████████████████████████████████| 3/3 [00:00<00:00, 12.58it/s]\n"
     ]
    }
   ],
   "source": [
    "import pandas as pd\n",
    "import os\n",
    "from tqdm import tqdm\n",
    "import matplotlib.pyplot as plt\n",
    "from sklearn.metrics import mean_absolute_percentage_error\n",
    "import seaborn as sns\n",
    "\n",
    "FILES_FOLDER = {\n",
    "    \"data_for_data_challenge\": [\n",
    "        \"data_for_data_challenge/building_data.feather\",\n",
    "        \"data_for_data_challenge/meter_data.feather\",\n",
    "        \"data_for_data_challenge/weather_data.feather\",  # The dataset test will be released one hour before the end of the Data Challenge\n",
    "    ]\n",
    "}\n",
    "\n",
    "\n",
    "def load_data(folder, data_dir, dict_files=FILES_FOLDER):\n",
    "    files = dict_files[folder]\n",
    "    dataframes = []\n",
    "    print(\":: Start loading data\")\n",
    "    for name_file in tqdm(files):\n",
    "        dataframe = pd.read_feather(os.path.join(data_dir, name_file))\n",
    "        dataframes.append(dataframe)\n",
    "    return dataframes\n",
    "\n",
    "\n",
    "building, meters, weather = load_data(\"data_for_data_challenge\", \"\")"
   ]
  },
  {
   "cell_type": "code",
   "execution_count": 2,
   "id": "86dc7ad4",
   "metadata": {},
   "outputs": [
    {
     "name": "stderr",
     "output_type": "stream",
     "text": [
      "/opt/miniconda3/lib/python3.9/site-packages/matplotlib/backends/backend_agg.py:240: RuntimeWarning: Glyph 9 missing from current font.\n",
      "  font.set_text(s, 0.0, flags=flags)\n"
     ]
    },
    {
     "data": {
      "text/plain": [
       "<seaborn.axisgrid.FacetGrid at 0x7fb82b65c6a0>"
      ]
     },
     "execution_count": 2,
     "metadata": {},
     "output_type": "execute_result"
    },
    {
     "name": "stderr",
     "output_type": "stream",
     "text": [
      "/opt/miniconda3/lib/python3.9/site-packages/matplotlib/backends/backend_agg.py:203: RuntimeWarning: Glyph 9 missing from current font.\n",
      "  font.set_text(s, 0, flags=flags)\n"
     ]
    },
    {
     "data": {
      "image/png": "[encoded data removed]",
      "text/plain": [
       "<Figure size 360x360 with 1 Axes>"
      ]
     },
     "metadata": {
      "needs_background": "light"
     },
     "output_type": "display_data"
    }
   ],
   "source": [
    "sns.displot(building, x=\"sub_primary_use\")"
   ]
  },
  {
   "cell_type": "code",
   "execution_count": null,
   "id": "5222cfca",
   "metadata": {},
   "outputs": [],
   "source": [
    "building"
   ]
  }
 ],
 "metadata": {
  "kernelspec": {
   "display_name": "Python 3 (ipykernel)",
   "language": "python",
   "name": "python3"
  },
  "language_info": {
   "codemirror_mode": {
    "name": "ipython",
    "version": 3
   },
   "file_extension": ".py",
   "mimetype": "text/x-python",
   "name": "python",
   "nbconvert_exporter": "python",
   "pygments_lexer": "ipython3",
   "version": "3.9.7"
  }
 },
 "nbformat": 4,
 "nbformat_minor": 5
}
