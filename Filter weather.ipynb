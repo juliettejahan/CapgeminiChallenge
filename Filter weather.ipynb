{
 "cells": [
  {
   "cell_type": "code",
   "execution_count": 57,
   "id": "2a0b6a7b",
   "metadata": {},
   "outputs": [
    {
     "name": "stdout",
     "output_type": "stream",
     "text": [
      ":: Start loading data\n"
     ]
    },
    {
     "name": "stderr",
     "output_type": "stream",
     "text": [
      "100%|█████████████████████████████████████████████| 3/3 [00:00<00:00, 22.06it/s]"
     ]
    },
    {
     "name": "stdout",
     "output_type": "stream",
     "text": [
      "Naive performance on the training set : 1.497798e+18\n"
     ]
    },
    {
     "name": "stderr",
     "output_type": "stream",
     "text": [
      "\n"
     ]
    }
   ],
   "source": [
    "import pandas as pd\n",
    "import os\n",
    "from tqdm import tqdm\n",
    "import matplotlib.pyplot as plt\n",
    "from sklearn.metrics import mean_absolute_percentage_error\n",
    "import seaborn as sns \n",
    "\n",
    "FILES_FOLDER = {\n",
    "    \"data_for_data_challenge\": [\n",
    "        \"data_for_data_challenge/building_data.feather\",\n",
    "        \"data_for_data_challenge/meter_data.feather\",\n",
    "        \"data_for_data_challenge/weather_data.feather\" # The dataset test will be released one hour before the end of the Data Challenge\n",
    "    ]\n",
    "}\n",
    "\n",
    "\n",
    "def load_data(folder, data_dir, dict_files=FILES_FOLDER):\n",
    "    files = dict_files[folder]\n",
    "    dataframes = []\n",
    "    print(\":: Start loading data\")\n",
    "    for name_file in tqdm(files):\n",
    "        dataframe = pd.read_feather(os.path.join(data_dir, name_file))\n",
    "        dataframes.append(dataframe)\n",
    "    return dataframes\n",
    "\n",
    "\n",
    "building, meters, weather = load_data(\"data_for_data_challenge\", \"\")\n",
    "\n",
    "meters[\"naive_pred\"] = meters[\"meter_reading\"].mean()\n",
    "\n",
    "print(\n",
    "    \"Naive performance on the training set :\",\n",
    "    mean_absolute_percentage_error(meters[\"meter_reading\"], meters[\"naive_pred\"]),\n",
    ")\n",
    "\n"
   ]
  },
  {
   "cell_type": "code",
   "execution_count": 60,
   "id": "d2366402",
   "metadata": {},
   "outputs": [
    {
     "data": {
      "text/html": [
       "<div>\n",
       "<style scoped>\n",
       "    .dataframe tbody tr th:only-of-type {\n",
       "        vertical-align: middle;\n",
       "    }\n",
       "\n",
       "    .dataframe tbody tr th {\n",
       "        vertical-align: top;\n",
       "    }\n",
       "\n",
       "    .dataframe thead th {\n",
       "        text-align: right;\n",
       "    }\n",
       "</style>\n",
       "<table border=\"1\" class=\"dataframe\">\n",
       "  <thead>\n",
       "    <tr style=\"text-align: right;\">\n",
       "      <th></th>\n",
       "      <th>index</th>\n",
       "      <th>site_id</th>\n",
       "      <th>timestamp</th>\n",
       "      <th>air_temperature</th>\n",
       "      <th>cloud_coverage</th>\n",
       "      <th>dew_temperature</th>\n",
       "      <th>precip_depth_1_hr</th>\n",
       "      <th>sea_level_pressure</th>\n",
       "      <th>wind_direction</th>\n",
       "      <th>wind_speed</th>\n",
       "    </tr>\n",
       "  </thead>\n",
       "  <tbody>\n",
       "    <tr>\n",
       "      <th>0</th>\n",
       "      <td>0</td>\n",
       "      <td>0</td>\n",
       "      <td>2017-01-11 09:00:00</td>\n",
       "      <td>13.900000</td>\n",
       "      <td>NaN</td>\n",
       "      <td>12.800000</td>\n",
       "      <td>0.0</td>\n",
       "      <td>1028.0</td>\n",
       "      <td>120.0</td>\n",
       "      <td>1.5</td>\n",
       "    </tr>\n",
       "    <tr>\n",
       "      <th>1</th>\n",
       "      <td>1</td>\n",
       "      <td>0</td>\n",
       "      <td>2016-03-21 22:00:00</td>\n",
       "      <td>18.299999</td>\n",
       "      <td>4.0</td>\n",
       "      <td>-3.300000</td>\n",
       "      <td>0.0</td>\n",
       "      <td>1022.0</td>\n",
       "      <td>330.0</td>\n",
       "      <td>4.6</td>\n",
       "    </tr>\n",
       "    <tr>\n",
       "      <th>2</th>\n",
       "      <td>2</td>\n",
       "      <td>0</td>\n",
       "      <td>2016-04-29 20:00:00</td>\n",
       "      <td>31.700001</td>\n",
       "      <td>2.0</td>\n",
       "      <td>16.100000</td>\n",
       "      <td>0.0</td>\n",
       "      <td>1013.0</td>\n",
       "      <td>NaN</td>\n",
       "      <td>2.6</td>\n",
       "    </tr>\n",
       "    <tr>\n",
       "      <th>3</th>\n",
       "      <td>3</td>\n",
       "      <td>0</td>\n",
       "      <td>2017-01-15 06:00:00</td>\n",
       "      <td>18.900000</td>\n",
       "      <td>6.0</td>\n",
       "      <td>16.700001</td>\n",
       "      <td>0.0</td>\n",
       "      <td>1026.0</td>\n",
       "      <td>30.0</td>\n",
       "      <td>3.1</td>\n",
       "    </tr>\n",
       "    <tr>\n",
       "      <th>4</th>\n",
       "      <td>4</td>\n",
       "      <td>0</td>\n",
       "      <td>2017-02-06 20:00:00</td>\n",
       "      <td>26.100000</td>\n",
       "      <td>NaN</td>\n",
       "      <td>8.900000</td>\n",
       "      <td>0.0</td>\n",
       "      <td>1020.5</td>\n",
       "      <td>0.0</td>\n",
       "      <td>0.0</td>\n",
       "    </tr>\n",
       "  </tbody>\n",
       "</table>\n",
       "</div>"
      ],
      "text/plain": [
       "   index  site_id           timestamp  air_temperature  cloud_coverage  \\\n",
       "0      0        0 2017-01-11 09:00:00        13.900000             NaN   \n",
       "1      1        0 2016-03-21 22:00:00        18.299999             4.0   \n",
       "2      2        0 2016-04-29 20:00:00        31.700001             2.0   \n",
       "3      3        0 2017-01-15 06:00:00        18.900000             6.0   \n",
       "4      4        0 2017-02-06 20:00:00        26.100000             NaN   \n",
       "\n",
       "   dew_temperature  precip_depth_1_hr  sea_level_pressure  wind_direction  \\\n",
       "0        12.800000                0.0              1028.0           120.0   \n",
       "1        -3.300000                0.0              1022.0           330.0   \n",
       "2        16.100000                0.0              1013.0             NaN   \n",
       "3        16.700001                0.0              1026.0            30.0   \n",
       "4         8.900000                0.0              1020.5             0.0   \n",
       "\n",
       "   wind_speed  \n",
       "0         1.5  \n",
       "1         4.6  \n",
       "2         2.6  \n",
       "3         3.1  \n",
       "4         0.0  "
      ]
     },
     "execution_count": 60,
     "metadata": {},
     "output_type": "execute_result"
    }
   ],
   "source": [
    "weather.head()"
   ]
  },
  {
   "cell_type": "code",
   "execution_count": 61,
   "id": "5efcc444",
   "metadata": {},
   "outputs": [
    {
     "data": {
      "text/plain": [
       "1392"
      ]
     },
     "execution_count": 61,
     "metadata": {},
     "output_type": "execute_result"
    }
   ],
   "source": [
    "weather['wind_speed'].isna().sum()"
   ]
  },
  {
   "cell_type": "markdown",
   "id": "6f6ff28e",
   "metadata": {},
   "source": [
    "Comme il y a beaucoup de NaN dans cloud_coverage (50%) et precip_depth_1_hr (30%), on décide de se débarasser des colonnes, qui ne nous paraissent par ailleurs pas déterminantes. Au vu de la grande quantité de données et du faible pourcentage d'échantillons de données qui ne contiennent un NaN pour air_temperature (0.5%), on décide de nettoyer le dataset en enlevant la colonne."
   ]
  },
  {
   "cell_type": "code",
   "execution_count": 72,
   "id": "1e8fba47",
   "metadata": {},
   "outputs": [
    {
     "name": "stdout",
     "output_type": "stream",
     "text": [
      "(186368, 10)\n"
     ]
    }
   ],
   "source": [
    "print(weather.shape)"
   ]
  },
  {
   "cell_type": "code",
   "execution_count": 73,
   "id": "211c4363",
   "metadata": {},
   "outputs": [
    {
     "data": {
      "text/plain": [
       "0.007469093406593407"
      ]
     },
     "execution_count": 73,
     "metadata": {},
     "output_type": "execute_result"
    }
   ],
   "source": [
    "1392/186368"
   ]
  },
  {
   "cell_type": "code",
   "execution_count": 74,
   "id": "c875a0aa",
   "metadata": {},
   "outputs": [],
   "source": [
    "new_weather = weather.dropna(subset = ['air_temperature'], inplace=False)"
   ]
  },
  {
   "cell_type": "code",
   "execution_count": 75,
   "id": "9cf012b3",
   "metadata": {},
   "outputs": [
    {
     "name": "stdout",
     "output_type": "stream",
     "text": [
      "(185298, 10)\n"
     ]
    }
   ],
   "source": [
    "print(new_weather.shape)"
   ]
  },
  {
   "cell_type": "code",
   "execution_count": 76,
   "id": "5dfd9230",
   "metadata": {},
   "outputs": [],
   "source": [
    "new_weather = new_weather.drop([\"cloud_coverage\", \"precip_depth_1_hr\"],axis = 1)"
   ]
  },
  {
   "cell_type": "markdown",
   "id": "3a61a92b",
   "metadata": {},
   "source": [
    "Une petite recherche internet nous indique au sujet de la température de la rosée : \"They found that the mean dew point temperature — the temperature at which air is saturated with water vapor — is the best predictor of increased energy demand.\"\n",
    "Ainsi, on décide de garder la colonne et d'éliminer les lignes du dataset qui ne contiennent pas de nombre pour dew_temperature (il n'en reste que 85 une fois qu'on a éliminé les lignes ne contenant pas de nombre pour air_temperature)."
   ]
  },
  {
   "cell_type": "code",
   "execution_count": 79,
   "id": "2b8a5f8b",
   "metadata": {},
   "outputs": [],
   "source": [
    "new_weather.dropna(subset = ['dew_temperature'], inplace=True)"
   ]
  },
  {
   "cell_type": "code",
   "execution_count": 82,
   "id": "41898b3b",
   "metadata": {},
   "outputs": [],
   "source": [
    "new_weather.to_csv(\"clean_data/weather.csv\")"
   ]
  }
 ],
 "metadata": {
  "kernelspec": {
   "display_name": "Python 3 (ipykernel)",
   "language": "python",
   "name": "python3"
  },
  "language_info": {
   "codemirror_mode": {
    "name": "ipython",
    "version": 3
   },
   "file_extension": ".py",
   "mimetype": "text/x-python",
   "name": "python",
   "nbconvert_exporter": "python",
   "pygments_lexer": "ipython3",
   "version": "3.9.7"
  }
 },
 "nbformat": 4,
 "nbformat_minor": 5
}
