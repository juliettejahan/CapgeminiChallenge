{
 "cells": [
  {
   "cell_type": "code",
   "execution_count": 2,
   "id": "ed4d337f",
   "metadata": {},
   "outputs": [
    {
     "name": "stdout",
     "output_type": "stream",
     "text": [
      ":: Start loading data\n"
     ]
    },
    {
     "name": "stderr",
     "output_type": "stream",
     "text": [
      "100%|█████████████████████████████████████████████| 3/3 [00:00<00:00, 19.25it/s]"
     ]
    },
    {
     "name": "stdout",
     "output_type": "stream",
     "text": [
      "Naive performance on the training set : 1.497798e+18\n"
     ]
    },
    {
     "name": "stderr",
     "output_type": "stream",
     "text": [
      "\n"
     ]
    }
   ],
   "source": [
    "import pandas as pd\n",
    "import os\n",
    "from tqdm import tqdm\n",
    "import matplotlib.pyplot as plt\n",
    "from sklearn.metrics import mean_absolute_percentage_error\n",
    "import seaborn as sns\n",
    "\n",
    "FILES_FOLDER = {\n",
    "    \"data_for_data_challenge\": [\n",
    "        \"data_for_data_challenge/building_data.feather\",\n",
    "        \"data_for_data_challenge/meter_data.feather\",\n",
    "        \"data_for_data_challenge/weather_data.feather\",  # The dataset test will be released one hour before the end of the Data Challenge\n",
    "    ]\n",
    "}\n",
    "\n",
    "\n",
    "def load_data(folder, data_dir, dict_files=FILES_FOLDER):\n",
    "    files = dict_files[folder]\n",
    "    dataframes = []\n",
    "    print(\":: Start loading data\")\n",
    "    for name_file in tqdm(files):\n",
    "        dataframe = pd.read_feather(os.path.join(data_dir, name_file))\n",
    "        dataframes.append(dataframe)\n",
    "    return dataframes\n",
    "\n",
    "\n",
    "building, meters, weather = load_data(\"data_for_data_challenge\", \"\")\n",
    "\n",
    "meters[\"naive_pred\"] = meters[\"meter_reading\"].mean()\n",
    "\n",
    "print(\n",
    "    \"Naive performance on the training set :\",\n",
    "    mean_absolute_percentage_error(meters[\"meter_reading\"], meters[\"naive_pred\"]),\n",
    ")"
   ]
  },
  {
   "cell_type": "code",
   "execution_count": 3,
   "id": "06f533b6",
   "metadata": {},
   "outputs": [
    {
     "name": "stdout",
     "output_type": "stream",
     "text": [
      "(466, 9)\n"
     ]
    }
   ],
   "source": [
    "building.head()\n",
    "print(building.shape)"
   ]
  },
  {
   "cell_type": "code",
   "execution_count": 4,
   "id": "f03e887e",
   "metadata": {},
   "outputs": [
    {
     "name": "stdout",
     "output_type": "stream",
     "text": [
      "10\n"
     ]
    }
   ],
   "source": [
    "print(len(building[building['primary_use']==\"Other\"]))"
   ]
  },
  {
   "cell_type": "markdown",
   "id": "f0e7ed19",
   "metadata": {},
   "source": [
    "On voit qu'il n'y a que peu de buildings dont le primary_use est non spécifié (other). Comme il semble que le rôle du bâtiment joue dans la consommation (un parking va par exemple chauffer nettement moins qu'une résidence), on peut les enlever."
   ]
  },
  {
   "cell_type": "code",
   "execution_count": 25,
   "id": "ad79ec85",
   "metadata": {},
   "outputs": [
    {
     "data": {
      "text/html": [
       "<div>\n",
       "<style scoped>\n",
       "    .dataframe tbody tr th:only-of-type {\n",
       "        vertical-align: middle;\n",
       "    }\n",
       "\n",
       "    .dataframe tbody tr th {\n",
       "        vertical-align: top;\n",
       "    }\n",
       "\n",
       "    .dataframe thead th {\n",
       "        text-align: right;\n",
       "    }\n",
       "</style>\n",
       "<table border=\"1\" class=\"dataframe\">\n",
       "  <thead>\n",
       "    <tr style=\"text-align: right;\">\n",
       "      <th></th>\n",
       "      <th>index</th>\n",
       "      <th>site_id</th>\n",
       "      <th>building_id</th>\n",
       "      <th>primary_use</th>\n",
       "      <th>sub_primary_use</th>\n",
       "      <th>square_feet</th>\n",
       "      <th>lat</th>\n",
       "      <th>lng</th>\n",
       "      <th>year_built</th>\n",
       "    </tr>\n",
       "  </thead>\n",
       "  <tbody>\n",
       "    <tr>\n",
       "      <th>1</th>\n",
       "      <td>1300</td>\n",
       "      <td>0</td>\n",
       "      <td>56</td>\n",
       "      <td>Lodging/residential</td>\n",
       "      <td>Residence Hall\\t</td>\n",
       "      <td>60088.0</td>\n",
       "      <td>28.52</td>\n",
       "      <td>-81.400002</td>\n",
       "      <td>2013.0</td>\n",
       "    </tr>\n",
       "    <tr>\n",
       "      <th>2</th>\n",
       "      <td>2645</td>\n",
       "      <td>0</td>\n",
       "      <td>38</td>\n",
       "      <td>Office</td>\n",
       "      <td>Office</td>\n",
       "      <td>12769.0</td>\n",
       "      <td>28.52</td>\n",
       "      <td>-81.400002</td>\n",
       "      <td>2013.0</td>\n",
       "    </tr>\n",
       "    <tr>\n",
       "      <th>3</th>\n",
       "      <td>3939</td>\n",
       "      <td>0</td>\n",
       "      <td>71</td>\n",
       "      <td>Parking</td>\n",
       "      <td>Parking Garage</td>\n",
       "      <td>387638.0</td>\n",
       "      <td>28.52</td>\n",
       "      <td>-81.400002</td>\n",
       "      <td>1998.0</td>\n",
       "    </tr>\n",
       "    <tr>\n",
       "      <th>4</th>\n",
       "      <td>5294</td>\n",
       "      <td>0</td>\n",
       "      <td>46</td>\n",
       "      <td>Retail</td>\n",
       "      <td>Retail</td>\n",
       "      <td>9045.0</td>\n",
       "      <td>28.52</td>\n",
       "      <td>-81.400002</td>\n",
       "      <td>2016.0</td>\n",
       "    </tr>\n",
       "    <tr>\n",
       "      <th>5</th>\n",
       "      <td>6596</td>\n",
       "      <td>0</td>\n",
       "      <td>64</td>\n",
       "      <td>Lodging/residential</td>\n",
       "      <td>Residence Hall</td>\n",
       "      <td>53130.0</td>\n",
       "      <td>28.52</td>\n",
       "      <td>-81.400002</td>\n",
       "      <td>2001.0</td>\n",
       "    </tr>\n",
       "  </tbody>\n",
       "</table>\n",
       "</div>"
      ],
      "text/plain": [
       "   index  site_id  building_id          primary_use   sub_primary_use  \\\n",
       "1   1300        0           56  Lodging/residential  Residence Hall\\t   \n",
       "2   2645        0           38               Office            Office   \n",
       "3   3939        0           71              Parking    Parking Garage   \n",
       "4   5294        0           46               Retail            Retail   \n",
       "5   6596        0           64  Lodging/residential    Residence Hall   \n",
       "\n",
       "   square_feet    lat        lng  year_built  \n",
       "1      60088.0  28.52 -81.400002      2013.0  \n",
       "2      12769.0  28.52 -81.400002      2013.0  \n",
       "3     387638.0  28.52 -81.400002      1998.0  \n",
       "4       9045.0  28.52 -81.400002      2016.0  \n",
       "5      53130.0  28.52 -81.400002      2001.0  "
      ]
     },
     "execution_count": 25,
     "metadata": {},
     "output_type": "execute_result"
    }
   ],
   "source": [
    "new_building = building[building['primary_use']!=\"Other\"] #pour l'instant je le crée mais il servira à rien\n",
    "new_building.head() #parce que on a pas décidé si on voulait les supprimer\n",
    "print(new_building.shape)"
   ]
  },
  {
   "cell_type": "code",
   "execution_count": 34,
   "id": "ab217706",
   "metadata": {},
   "outputs": [
    {
     "data": {
      "text/plain": [
       "array([ 0,  1,  2,  3,  4,  5,  6,  7,  8,  9, 10, 11, 12, 13, 14, 15])"
      ]
     },
     "execution_count": 34,
     "metadata": {},
     "output_type": "execute_result"
    }
   ],
   "source": [
    "new_building['site_id'].unique() #ouf, on a pas un site avec que des other en primary_use"
   ]
  },
  {
   "cell_type": "code",
   "execution_count": 27,
   "id": "86ba035a",
   "metadata": {},
   "outputs": [
    {
     "data": {
      "text/plain": [
       "62"
      ]
     },
     "execution_count": 27,
     "metadata": {},
     "output_type": "execute_result"
    }
   ],
   "source": [
    "new_building['lng'].isna().sum() #Idem pour lat, c'est quand même beaucoup..."
   ]
  },
  {
   "cell_type": "code",
   "execution_count": 28,
   "id": "c0cc532e",
   "metadata": {},
   "outputs": [],
   "source": [
    "no_NaN_lat=new_building.dropna(subset = ['lng'], inplace=False)"
   ]
  },
  {
   "cell_type": "code",
   "execution_count": 29,
   "id": "9e3b03d0",
   "metadata": {},
   "outputs": [
    {
     "data": {
      "text/plain": [
       "array([ 0,  1,  2,  3,  4,  5,  6,  7,  9, 11, 12, 13, 15])"
      ]
     },
     "execution_count": 29,
     "metadata": {},
     "output_type": "execute_result"
    }
   ],
   "source": [
    "no_NaN_lat['site_id'].unique() #là on a quand même un peu déconné, les sites 8,10 et 14 disparaissent complètement "
   ]
  },
  {
   "cell_type": "markdown",
   "id": "86ffc4e7",
   "metadata": {},
   "source": [
    "Comme enlever les rows sans localisation nous supprime quand même trois sites entiers, on va garder ces rows mais il faut garder en tête qu'on a un problème de NaN, le plus simple serait soit de supprimer le critère localisation soit de supprimer les sites 8, 10 et 14."
   ]
  },
  {
   "cell_type": "code",
   "execution_count": 30,
   "id": "e009e3bd",
   "metadata": {},
   "outputs": [],
   "source": [
    "new_building.to_csv(\"clean_data/building.csv\")"
   ]
  },
  {
   "cell_type": "code",
   "execution_count": null,
   "id": "23132d24",
   "metadata": {},
   "outputs": [],
   "source": []
  }
 ],
 "metadata": {
  "kernelspec": {
   "display_name": "Python 3 (ipykernel)",
   "language": "python",
   "name": "python3"
  },
  "language_info": {
   "codemirror_mode": {
    "name": "ipython",
    "version": 3
   },
   "file_extension": ".py",
   "mimetype": "text/x-python",
   "name": "python",
   "nbconvert_exporter": "python",
   "pygments_lexer": "ipython3",
   "version": "3.9.7"
  }
 },
 "nbformat": 4,
 "nbformat_minor": 5
}
