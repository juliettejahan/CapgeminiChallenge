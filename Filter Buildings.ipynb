{
 "cells": [
  {
   "cell_type": "code",
   "execution_count": 1,
   "id": "1c50b1c7",
   "metadata": {},
   "outputs": [
    {
     "name": "stdout",
     "output_type": "stream",
     "text": [
      ":: Start loading data\n"
     ]
    },
    {
     "name": "stderr",
     "output_type": "stream",
     "text": [
      "100%|█████████████████████████████████████████████| 3/3 [00:00<00:00, 17.35it/s]\n"
     ]
    },
    {
     "name": "stdout",
     "output_type": "stream",
     "text": [
      "Naive performance on the training set : 1.497798e+18\n"
     ]
    }
   ],
   "source": [
    "import pandas as pd\n",
    "import os\n",
    "from tqdm import tqdm\n",
    "import matplotlib.pyplot as plt\n",
    "from sklearn.metrics import mean_absolute_percentage_error\n",
    "import seaborn as sns \n",
    "\n",
    "FILES_FOLDER = {\n",
    "    \"data_for_data_challenge\": [\n",
    "        \"data_for_data_challenge/building_data.feather\",\n",
    "        \"data_for_data_challenge/meter_data.feather\",\n",
    "        \"data_for_data_challenge/weather_data.feather\" # The dataset test will be released one hour before the end of the Data Challenge\n",
    "    ]\n",
    "}\n",
    "\n",
    "\n",
    "def load_data(folder, data_dir, dict_files=FILES_FOLDER):\n",
    "    files = dict_files[folder]\n",
    "    dataframes = []\n",
    "    print(\":: Start loading data\")\n",
    "    for name_file in tqdm(files):\n",
    "        dataframe = pd.read_feather(os.path.join(data_dir, name_file))\n",
    "        dataframes.append(dataframe)\n",
    "    return dataframes\n",
    "\n",
    "\n",
    "building, meters, weather = load_data(\"data_for_data_challenge\", \"\")\n",
    "\n",
    "meters[\"naive_pred\"] = meters[\"meter_reading\"].mean()\n",
    "\n",
    "print(\n",
    "    \"Naive performance on the training set :\",\n",
    "    mean_absolute_percentage_error(meters[\"meter_reading\"], meters[\"naive_pred\"]),\n",
    ")"
   ]
  },
  {
   "cell_type": "code",
   "execution_count": 2,
   "id": "7a771e1b",
   "metadata": {},
   "outputs": [
    {
     "data": {
      "text/html": [
       "<div>\n",
       "<style scoped>\n",
       "    .dataframe tbody tr th:only-of-type {\n",
       "        vertical-align: middle;\n",
       "    }\n",
       "\n",
       "    .dataframe tbody tr th {\n",
       "        vertical-align: top;\n",
       "    }\n",
       "\n",
       "    .dataframe thead th {\n",
       "        text-align: right;\n",
       "    }\n",
       "</style>\n",
       "<table border=\"1\" class=\"dataframe\">\n",
       "  <thead>\n",
       "    <tr style=\"text-align: right;\">\n",
       "      <th></th>\n",
       "      <th>index</th>\n",
       "      <th>site_id</th>\n",
       "      <th>building_id</th>\n",
       "      <th>primary_use</th>\n",
       "      <th>sub_primary_use</th>\n",
       "      <th>square_feet</th>\n",
       "      <th>lat</th>\n",
       "      <th>lng</th>\n",
       "      <th>year_built</th>\n",
       "    </tr>\n",
       "  </thead>\n",
       "  <tbody>\n",
       "    <tr>\n",
       "      <th>0</th>\n",
       "      <td>0</td>\n",
       "      <td>0</td>\n",
       "      <td>83</td>\n",
       "      <td>Other</td>\n",
       "      <td>Other</td>\n",
       "      <td>2070.0</td>\n",
       "      <td>28.52</td>\n",
       "      <td>-81.400002</td>\n",
       "      <td>1996.0</td>\n",
       "    </tr>\n",
       "    <tr>\n",
       "      <th>1</th>\n",
       "      <td>1300</td>\n",
       "      <td>0</td>\n",
       "      <td>56</td>\n",
       "      <td>Lodging/residential</td>\n",
       "      <td>Residence Hall\\t</td>\n",
       "      <td>60088.0</td>\n",
       "      <td>28.52</td>\n",
       "      <td>-81.400002</td>\n",
       "      <td>2013.0</td>\n",
       "    </tr>\n",
       "    <tr>\n",
       "      <th>2</th>\n",
       "      <td>2645</td>\n",
       "      <td>0</td>\n",
       "      <td>38</td>\n",
       "      <td>Office</td>\n",
       "      <td>Office</td>\n",
       "      <td>12769.0</td>\n",
       "      <td>28.52</td>\n",
       "      <td>-81.400002</td>\n",
       "      <td>2013.0</td>\n",
       "    </tr>\n",
       "    <tr>\n",
       "      <th>3</th>\n",
       "      <td>3939</td>\n",
       "      <td>0</td>\n",
       "      <td>71</td>\n",
       "      <td>Parking</td>\n",
       "      <td>Parking Garage</td>\n",
       "      <td>387638.0</td>\n",
       "      <td>28.52</td>\n",
       "      <td>-81.400002</td>\n",
       "      <td>1998.0</td>\n",
       "    </tr>\n",
       "    <tr>\n",
       "      <th>4</th>\n",
       "      <td>5294</td>\n",
       "      <td>0</td>\n",
       "      <td>46</td>\n",
       "      <td>Retail</td>\n",
       "      <td>Retail</td>\n",
       "      <td>9045.0</td>\n",
       "      <td>28.52</td>\n",
       "      <td>-81.400002</td>\n",
       "      <td>2016.0</td>\n",
       "    </tr>\n",
       "  </tbody>\n",
       "</table>\n",
       "</div>"
      ],
      "text/plain": [
       "   index  site_id  building_id          primary_use   sub_primary_use  \\\n",
       "0      0        0           83                Other             Other   \n",
       "1   1300        0           56  Lodging/residential  Residence Hall\\t   \n",
       "2   2645        0           38               Office            Office   \n",
       "3   3939        0           71              Parking    Parking Garage   \n",
       "4   5294        0           46               Retail            Retail   \n",
       "\n",
       "   square_feet    lat        lng  year_built  \n",
       "0       2070.0  28.52 -81.400002      1996.0  \n",
       "1      60088.0  28.52 -81.400002      2013.0  \n",
       "2      12769.0  28.52 -81.400002      2013.0  \n",
       "3     387638.0  28.52 -81.400002      1998.0  \n",
       "4       9045.0  28.52 -81.400002      2016.0  "
      ]
     },
     "execution_count": 2,
     "metadata": {},
     "output_type": "execute_result"
    }
   ],
   "source": [
    "building.head()"
   ]
  },
  {
   "cell_type": "code",
   "execution_count": null,
   "id": "c707d184",
   "metadata": {},
   "outputs": [],
   "source": [
    "building['primary_use'].isna().sum()"
   ]
  }
 ],
 "metadata": {
  "kernelspec": {
   "display_name": "Python 3 (ipykernel)",
   "language": "python",
   "name": "python3"
  },
  "language_info": {
   "codemirror_mode": {
    "name": "ipython",
    "version": 3
   },
   "file_extension": ".py",
   "mimetype": "text/x-python",
   "name": "python",
   "nbconvert_exporter": "python",
   "pygments_lexer": "ipython3",
   "version": "3.9.7"
  }
 },
 "nbformat": 4,
 "nbformat_minor": 5
}
