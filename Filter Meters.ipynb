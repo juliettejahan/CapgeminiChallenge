{
 "cells": [
  {
   "cell_type": "code",
   "execution_count": 2,
   "id": "d1bf6099",
   "metadata": {},
   "outputs": [
    {
     "name": "stdout",
     "output_type": "stream",
     "text": [
      ":: Start loading data\n"
     ]
    },
    {
     "name": "stderr",
     "output_type": "stream",
     "text": [
      "100%|█████████████████████████████████████████████| 3/3 [00:00<00:00, 17.46it/s]\n"
     ]
    }
   ],
   "source": [
    "import pandas as pd\n",
    "import os\n",
    "from tqdm import tqdm\n",
    "import matplotlib.pyplot as plt\n",
    "from sklearn.metrics import mean_absolute_percentage_error\n",
    "import seaborn as sns \n",
    "\n",
    "FILES_FOLDER = {\n",
    "    \"data_for_data_challenge\": [\n",
    "        \"data_for_data_challenge/building_data.feather\",\n",
    "        \"data_for_data_challenge/meter_data.feather\",\n",
    "        \"data_for_data_challenge/weather_data.feather\" # The dataset test will be released one hour before the end of the Data Challenge\n",
    "    ]\n",
    "}\n",
    "\n",
    "\n",
    "def load_data(folder, data_dir, dict_files=FILES_FOLDER):\n",
    "    files = dict_files[folder]\n",
    "    dataframes = []\n",
    "    print(\":: Start loading data\")\n",
    "    for name_file in tqdm(files):\n",
    "        dataframe = pd.read_feather(os.path.join(data_dir, name_file))\n",
    "        dataframes.append(dataframe)\n",
    "    return dataframes\n",
    "\n",
    "\n",
    "building, meters, weather = load_data(\"data_for_data_challenge\", \"\")\n",
    "\n"
   ]
  },
  {
   "cell_type": "code",
   "execution_count": 3,
   "id": "502a76a9",
   "metadata": {},
   "outputs": [
    {
     "data": {
      "text/html": [
       "<div>\n",
       "<style scoped>\n",
       "    .dataframe tbody tr th:only-of-type {\n",
       "        vertical-align: middle;\n",
       "    }\n",
       "\n",
       "    .dataframe tbody tr th {\n",
       "        vertical-align: top;\n",
       "    }\n",
       "\n",
       "    .dataframe thead th {\n",
       "        text-align: right;\n",
       "    }\n",
       "</style>\n",
       "<table border=\"1\" class=\"dataframe\">\n",
       "  <thead>\n",
       "    <tr style=\"text-align: right;\">\n",
       "      <th></th>\n",
       "      <th>index</th>\n",
       "      <th>building_id</th>\n",
       "      <th>timestamp</th>\n",
       "      <th>meter</th>\n",
       "      <th>meter_reading</th>\n",
       "    </tr>\n",
       "  </thead>\n",
       "  <tbody>\n",
       "    <tr>\n",
       "      <th>0</th>\n",
       "      <td>0</td>\n",
       "      <td>83</td>\n",
       "      <td>2017-01-11 09:00:00</td>\n",
       "      <td>0</td>\n",
       "      <td>1.0989</td>\n",
       "    </tr>\n",
       "    <tr>\n",
       "      <th>1</th>\n",
       "      <td>1</td>\n",
       "      <td>83</td>\n",
       "      <td>2016-03-21 22:00:00</td>\n",
       "      <td>0</td>\n",
       "      <td>0.0000</td>\n",
       "    </tr>\n",
       "    <tr>\n",
       "      <th>2</th>\n",
       "      <td>2</td>\n",
       "      <td>83</td>\n",
       "      <td>2016-04-29 20:00:00</td>\n",
       "      <td>0</td>\n",
       "      <td>0.0000</td>\n",
       "    </tr>\n",
       "    <tr>\n",
       "      <th>3</th>\n",
       "      <td>3</td>\n",
       "      <td>83</td>\n",
       "      <td>2017-01-15 06:00:00</td>\n",
       "      <td>0</td>\n",
       "      <td>2.7405</td>\n",
       "    </tr>\n",
       "    <tr>\n",
       "      <th>4</th>\n",
       "      <td>4</td>\n",
       "      <td>83</td>\n",
       "      <td>2017-02-06 20:00:00</td>\n",
       "      <td>0</td>\n",
       "      <td>2.1296</td>\n",
       "    </tr>\n",
       "  </tbody>\n",
       "</table>\n",
       "</div>"
      ],
      "text/plain": [
       "   index  building_id           timestamp  meter  meter_reading\n",
       "0      0           83 2017-01-11 09:00:00      0         1.0989\n",
       "1      1           83 2016-03-21 22:00:00      0         0.0000\n",
       "2      2           83 2016-04-29 20:00:00      0         0.0000\n",
       "3      3           83 2017-01-15 06:00:00      0         2.7405\n",
       "4      4           83 2017-02-06 20:00:00      0         2.1296"
      ]
     },
     "execution_count": 3,
     "metadata": {},
     "output_type": "execute_result"
    }
   ],
   "source": [
    "meters.head()"
   ]
  },
  {
   "cell_type": "code",
   "execution_count": 4,
   "id": "6e521719",
   "metadata": {},
   "outputs": [
    {
     "name": "stdout",
     "output_type": "stream",
     "text": [
      "(976896, 5)\n"
     ]
    },
    {
     "data": {
      "text/plain": [
       "array([ 0,  1, -1,  3,  2], dtype=int32)"
      ]
     },
     "execution_count": 4,
     "metadata": {},
     "output_type": "execute_result"
    }
   ],
   "source": [
    "print(meters.shape)\n",
    "meters[\"meter\"].unique()"
   ]
  },
  {
   "cell_type": "code",
   "execution_count": 5,
   "id": "9fb238bd",
   "metadata": {},
   "outputs": [
    {
     "name": "stdout",
     "output_type": "stream",
     "text": [
      "Number of electricity measures : 581842\n",
      "Number of chilledwater measures : 203081\n",
      "Number of steam measures : 135721\n",
      "Number of hotwater measures : 56239\n",
      "Number of measures with unknown type: 13\n"
     ]
    }
   ],
   "source": [
    "print(\"Number of electricity measures :\",len(meters[meters['meter']==0]))\n",
    "print(\"Number of chilledwater measures :\",len(meters[meters['meter']==1]))\n",
    "print(\"Number of steam measures :\",len(meters[meters['meter']==2]))\n",
    "print(\"Number of hotwater measures :\",len(meters[meters['meter']==3]))\n",
    "print(\"Number of measures with unknown type:\",len(meters[meters['meter']==-1]))"
   ]
  },
  {
   "cell_type": "code",
   "execution_count": 6,
   "id": "8df7c611",
   "metadata": {},
   "outputs": [
    {
     "data": {
      "text/html": [
       "<div>\n",
       "<style scoped>\n",
       "    .dataframe tbody tr th:only-of-type {\n",
       "        vertical-align: middle;\n",
       "    }\n",
       "\n",
       "    .dataframe tbody tr th {\n",
       "        vertical-align: top;\n",
       "    }\n",
       "\n",
       "    .dataframe thead th {\n",
       "        text-align: right;\n",
       "    }\n",
       "</style>\n",
       "<table border=\"1\" class=\"dataframe\">\n",
       "  <thead>\n",
       "    <tr style=\"text-align: right;\">\n",
       "      <th></th>\n",
       "      <th>index</th>\n",
       "      <th>building_id</th>\n",
       "      <th>timestamp</th>\n",
       "      <th>meter</th>\n",
       "      <th>meter_reading</th>\n",
       "    </tr>\n",
       "  </thead>\n",
       "  <tbody>\n",
       "    <tr>\n",
       "      <th>8933</th>\n",
       "      <td>8933</td>\n",
       "      <td>7</td>\n",
       "      <td>2017-06-15 21:00:00</td>\n",
       "      <td>-1</td>\n",
       "      <td>552.532471</td>\n",
       "    </tr>\n",
       "    <tr>\n",
       "      <th>40077</th>\n",
       "      <td>40078</td>\n",
       "      <td>21</td>\n",
       "      <td>2016-10-18 02:00:00</td>\n",
       "      <td>-1</td>\n",
       "      <td>54.058800</td>\n",
       "    </tr>\n",
       "    <tr>\n",
       "      <th>444752</th>\n",
       "      <td>444767</td>\n",
       "      <td>836</td>\n",
       "      <td>2016-12-27 17:00:00</td>\n",
       "      <td>-1</td>\n",
       "      <td>13.958300</td>\n",
       "    </tr>\n",
       "    <tr>\n",
       "      <th>639852</th>\n",
       "      <td>639869</td>\n",
       "      <td>1076</td>\n",
       "      <td>2016-04-27 16:00:00</td>\n",
       "      <td>-1</td>\n",
       "      <td>54.687500</td>\n",
       "    </tr>\n",
       "    <tr>\n",
       "      <th>741070</th>\n",
       "      <td>741091</td>\n",
       "      <td>1140</td>\n",
       "      <td>2016-11-23 16:00:00</td>\n",
       "      <td>-1</td>\n",
       "      <td>563.002014</td>\n",
       "    </tr>\n",
       "    <tr>\n",
       "      <th>741979</th>\n",
       "      <td>742000</td>\n",
       "      <td>1140</td>\n",
       "      <td>2016-07-29 01:00:00</td>\n",
       "      <td>-1</td>\n",
       "      <td>935.625977</td>\n",
       "    </tr>\n",
       "    <tr>\n",
       "      <th>782528</th>\n",
       "      <td>782550</td>\n",
       "      <td>1247</td>\n",
       "      <td>2016-04-09 08:00:00</td>\n",
       "      <td>-1</td>\n",
       "      <td>97.199997</td>\n",
       "    </tr>\n",
       "    <tr>\n",
       "      <th>799287</th>\n",
       "      <td>799309</td>\n",
       "      <td>1286</td>\n",
       "      <td>2016-03-11 04:00:00</td>\n",
       "      <td>-1</td>\n",
       "      <td>337.579987</td>\n",
       "    </tr>\n",
       "    <tr>\n",
       "      <th>807045</th>\n",
       "      <td>807067</td>\n",
       "      <td>1235</td>\n",
       "      <td>2016-05-12 09:00:00</td>\n",
       "      <td>-1</td>\n",
       "      <td>360.187988</td>\n",
       "    </tr>\n",
       "    <tr>\n",
       "      <th>811798</th>\n",
       "      <td>811820</td>\n",
       "      <td>1301</td>\n",
       "      <td>2017-02-16 12:00:00</td>\n",
       "      <td>-1</td>\n",
       "      <td>1916.555420</td>\n",
       "    </tr>\n",
       "    <tr>\n",
       "      <th>829114</th>\n",
       "      <td>829136</td>\n",
       "      <td>1276</td>\n",
       "      <td>2016-11-16 09:00:00</td>\n",
       "      <td>-1</td>\n",
       "      <td>58.339298</td>\n",
       "    </tr>\n",
       "    <tr>\n",
       "      <th>830579</th>\n",
       "      <td>830601</td>\n",
       "      <td>1276</td>\n",
       "      <td>2017-03-21 16:00:00</td>\n",
       "      <td>-1</td>\n",
       "      <td>126.936096</td>\n",
       "    </tr>\n",
       "    <tr>\n",
       "      <th>945586</th>\n",
       "      <td>945609</td>\n",
       "      <td>1387</td>\n",
       "      <td>2016-11-29 10:00:00</td>\n",
       "      <td>-1</td>\n",
       "      <td>809.799011</td>\n",
       "    </tr>\n",
       "  </tbody>\n",
       "</table>\n",
       "</div>"
      ],
      "text/plain": [
       "         index  building_id           timestamp  meter  meter_reading\n",
       "8933      8933            7 2017-06-15 21:00:00     -1     552.532471\n",
       "40077    40078           21 2016-10-18 02:00:00     -1      54.058800\n",
       "444752  444767          836 2016-12-27 17:00:00     -1      13.958300\n",
       "639852  639869         1076 2016-04-27 16:00:00     -1      54.687500\n",
       "741070  741091         1140 2016-11-23 16:00:00     -1     563.002014\n",
       "741979  742000         1140 2016-07-29 01:00:00     -1     935.625977\n",
       "782528  782550         1247 2016-04-09 08:00:00     -1      97.199997\n",
       "799287  799309         1286 2016-03-11 04:00:00     -1     337.579987\n",
       "807045  807067         1235 2016-05-12 09:00:00     -1     360.187988\n",
       "811798  811820         1301 2017-02-16 12:00:00     -1    1916.555420\n",
       "829114  829136         1276 2016-11-16 09:00:00     -1      58.339298\n",
       "830579  830601         1276 2017-03-21 16:00:00     -1     126.936096\n",
       "945586  945609         1387 2016-11-29 10:00:00     -1     809.799011"
      ]
     },
     "execution_count": 6,
     "metadata": {},
     "output_type": "execute_result"
    }
   ],
   "source": [
    "meters[meters['meter']==-1]"
   ]
  },
  {
   "cell_type": "markdown",
   "id": "8866f6e6",
   "metadata": {},
   "source": [
    "On décide de supprimer les lignes avec pour meter -1, qui ne correspond à rien de connu comme type d'énergie."
   ]
  },
  {
   "cell_type": "code",
   "execution_count": 7,
   "id": "745b0504",
   "metadata": {},
   "outputs": [],
   "source": [
    "new_meters=meters[meters['meter']!=-1]"
   ]
  },
  {
   "cell_type": "markdown",
   "id": "dc919541",
   "metadata": {},
   "source": [
    "Il n'y a plus de NaN dans le dataset, on peut l'enregistrer tel quel. On applique juste l'algo de tanguy pour modifier les outliers"
   ]
  },
  {
   "cell_type": "code",
   "execution_count": 8,
   "id": "011320c0",
   "metadata": {},
   "outputs": [
    {
     "name": "stdout",
     "output_type": "stream",
     "text": [
      "meter\n",
      "0     152.350668\n",
      "1     450.295398\n",
      "2    1165.055519\n",
      "3     213.763202\n",
      "Name: meter_reading, dtype: float64\n",
      "1165.055519104004\n",
      "19.55132484436035\n",
      "clipping values lower than -285.15001106262207 and greater than 476.603328704834\n",
      "12.027600288391113\n",
      "clipping values lower than -888.5631952285767 and greater than 1362.9137935638428\n",
      "67.0999984741211\n",
      "clipping values lower than -2263.0110397338867 and greater than 3562.266555786133\n",
      "0.08079999685287476\n",
      "clipping values lower than -427.44560354948044 and greater than 641.3704053163528\n"
     ]
    }
   ],
   "source": [
    "def remove_meters_outliers(meters):\n",
    "    qt2 = meters.groupby('meter').quantile(q = 0.75)\n",
    "    qt1 = meters.groupby('meter').quantile(q = 0.25) #this is a dataframe\n",
    "    iqr = qt2.meter_reading - qt1.meter_reading #this is a dataframe\n",
    "    print(iqr)\n",
    "    print(iqr.loc[2])\n",
    "    for k in range(0,4):\n",
    "        print(qt1.loc[k, 'meter_reading'])\n",
    "        print(f\"clipping values lower than {qt1.loc[k, 'meter_reading'] - 2*iqr.loc[k]} and greater than {qt2.loc[k,'meter_reading'] + 2*iqr.loc[k]}\")\n",
    "        filter_meter_k = meters.loc[(meters.meter == k) & ((meters.meter_reading > qt2.loc[k, 'meter_reading'] + 2*iqr.loc[k] ) | (meters.meter_reading <qt1.loc[k, 'meter_reading'] - 2*iqr.loc[k]))]\n",
    "        meters = meters.drop(filter_meter_k.index)\n",
    "    return meters\n",
    "new_meters = remove_meters_outliers(new_meters)"
   ]
  },
  {
   "cell_type": "code",
   "execution_count": 10,
   "id": "9194f7a9",
   "metadata": {},
   "outputs": [
    {
     "data": {
      "text/html": [
       "<div>\n",
       "<style scoped>\n",
       "    .dataframe tbody tr th:only-of-type {\n",
       "        vertical-align: middle;\n",
       "    }\n",
       "\n",
       "    .dataframe tbody tr th {\n",
       "        vertical-align: top;\n",
       "    }\n",
       "\n",
       "    .dataframe thead th {\n",
       "        text-align: right;\n",
       "    }\n",
       "</style>\n",
       "<table border=\"1\" class=\"dataframe\">\n",
       "  <thead>\n",
       "    <tr style=\"text-align: right;\">\n",
       "      <th></th>\n",
       "      <th>index</th>\n",
       "      <th>building_id</th>\n",
       "      <th>timestamp</th>\n",
       "      <th>meter</th>\n",
       "      <th>meter_reading</th>\n",
       "    </tr>\n",
       "  </thead>\n",
       "  <tbody>\n",
       "    <tr>\n",
       "      <th>0</th>\n",
       "      <td>0</td>\n",
       "      <td>83</td>\n",
       "      <td>2017-01-11 09:00:00</td>\n",
       "      <td>0</td>\n",
       "      <td>1.0989</td>\n",
       "    </tr>\n",
       "    <tr>\n",
       "      <th>1</th>\n",
       "      <td>1</td>\n",
       "      <td>83</td>\n",
       "      <td>2016-03-21 22:00:00</td>\n",
       "      <td>0</td>\n",
       "      <td>0.0000</td>\n",
       "    </tr>\n",
       "    <tr>\n",
       "      <th>2</th>\n",
       "      <td>2</td>\n",
       "      <td>83</td>\n",
       "      <td>2016-04-29 20:00:00</td>\n",
       "      <td>0</td>\n",
       "      <td>0.0000</td>\n",
       "    </tr>\n",
       "    <tr>\n",
       "      <th>3</th>\n",
       "      <td>3</td>\n",
       "      <td>83</td>\n",
       "      <td>2017-01-15 06:00:00</td>\n",
       "      <td>0</td>\n",
       "      <td>2.7405</td>\n",
       "    </tr>\n",
       "    <tr>\n",
       "      <th>4</th>\n",
       "      <td>4</td>\n",
       "      <td>83</td>\n",
       "      <td>2017-02-06 20:00:00</td>\n",
       "      <td>0</td>\n",
       "      <td>2.1296</td>\n",
       "    </tr>\n",
       "  </tbody>\n",
       "</table>\n",
       "</div>"
      ],
      "text/plain": [
       "   index  building_id           timestamp  meter  meter_reading\n",
       "0      0           83 2017-01-11 09:00:00      0         1.0989\n",
       "1      1           83 2016-03-21 22:00:00      0         0.0000\n",
       "2      2           83 2016-04-29 20:00:00      0         0.0000\n",
       "3      3           83 2017-01-15 06:00:00      0         2.7405\n",
       "4      4           83 2017-02-06 20:00:00      0         2.1296"
      ]
     },
     "execution_count": 10,
     "metadata": {},
     "output_type": "execute_result"
    }
   ],
   "source": [
    "new_meters.head()"
   ]
  },
  {
   "cell_type": "code",
   "execution_count": 11,
   "id": "6c8b1dbe",
   "metadata": {},
   "outputs": [],
   "source": [
    "new_meters.to_csv(\"clean_data/meters.csv\")"
   ]
  },
  {
   "cell_type": "code",
   "execution_count": null,
   "id": "9fa787b2",
   "metadata": {},
   "outputs": [],
   "source": []
  }
 ],
 "metadata": {
  "kernelspec": {
   "display_name": "Python 3 (ipykernel)",
   "language": "python",
   "name": "python3"
  },
  "language_info": {
   "codemirror_mode": {
    "name": "ipython",
    "version": 3
   },
   "file_extension": ".py",
   "mimetype": "text/x-python",
   "name": "python",
   "nbconvert_exporter": "python",
   "pygments_lexer": "ipython3",
   "version": "3.9.7"
  }
 },
 "nbformat": 4,
 "nbformat_minor": 5
}
